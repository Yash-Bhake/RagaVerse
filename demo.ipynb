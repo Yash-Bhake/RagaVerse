{
 "cells": [
  {
   "cell_type": "markdown",
   "id": "59d19f7f",
   "metadata": {},
   "source": [
    "## Roots Classical Music Project"
   ]
  },
  {
   "cell_type": "markdown",
   "id": "a439ef8d",
   "metadata": {},
   "source": [
    "### RagaVerse\n"
   ]
  },
  {
   "cell_type": "code",
   "execution_count": 3,
   "id": "53d1f142",
   "metadata": {},
   "outputs": [],
   "source": [
    "import os\n",
    "import numpy as np\n",
    "import librosa\n",
    "import matplotlib.pyplot as plt\n",
    "import seaborn as sns\n",
    "from scipy.signal import get_window\n",
    "from sklearn.decomposition import PCA\n",
    "from sklearn.preprocessing import StandardScaler\n",
    "from sklearn.manifold import TSNE\n"
   ]
  },
  {
   "cell_type": "code",
   "execution_count": 4,
   "id": "8d638921",
   "metadata": {},
   "outputs": [],
   "source": [
    "def audio_to_sine_wave(filepath, sr=16000, win_size=0.01):\n",
    "    y, sr = librosa.load(filepath, sr=sr)\n",
    "    f0, voiced_flag, _ = librosa.pyin(y, fmin=librosa.note_to_hz('C2'),\n",
    "                                      fmax=librosa.note_to_hz('C7'),\n",
    "                                      frame_length=int(win_size*sr))\n",
    "    # Replace NaNs with 0s or interpolate\n",
    "    f0 = np.nan_to_num(f0)\n",
    "    t = np.linspace(0, len(y) / sr, len(f0))\n",
    "    sine = np.sin(2 * np.pi * f0 * t)\n",
    "    return f0, sine, sr\n"
   ]
  },
  {
   "cell_type": "code",
   "execution_count": 5,
   "id": "51085c2d",
   "metadata": {},
   "outputs": [],
   "source": [
    "def hz_to_cents(f0, tonic=None):\n",
    "    if tonic is None:\n",
    "        # Use median non-zero value as tonic estimate\n",
    "        tonic = np.median(f0[f0 > 0])\n",
    "    cents = 1200 * np.log2(f0 / tonic)\n",
    "    cents[f0 <= 0] = np.nan  # Ignore unvoiced\n",
    "    return cents, tonic\n"
   ]
  },
  {
   "cell_type": "code",
   "execution_count": 6,
   "id": "eee9dbaa",
   "metadata": {},
   "outputs": [],
   "source": [
    "def plot_pitch_contour(cents, sr, hop_length=512):\n",
    "    time = np.arange(len(cents)) * hop_length / sr\n",
    "    plt.figure(figsize=(10, 3))\n",
    "    plt.plot(time, cents, label='Pitch contour (cents)')\n",
    "    plt.xlabel('Time (s)')\n",
    "    plt.ylabel('Pitch (cents)')\n",
    "    plt.title('Pitch Contour')\n",
    "    plt.grid(True)\n",
    "    plt.show()\n"
   ]
  },
  {
   "cell_type": "code",
   "execution_count": 7,
   "id": "ad359038",
   "metadata": {},
   "outputs": [],
   "source": [
    "def compute_pitch_class_distribution(cents, bins=1200):\n",
    "    # Wrap around 1200 cents (1 octave)\n",
    "    pitch_classes = np.mod(cents, 1200)\n",
    "    pitch_classes = pitch_classes[~np.isnan(pitch_classes)]\n",
    "    hist, _ = np.histogram(pitch_classes, bins=bins, range=(0, 1200), density=True)\n",
    "    return hist\n"
   ]
  },
  {
   "cell_type": "code",
   "execution_count": 8,
   "id": "56d93d0f",
   "metadata": {},
   "outputs": [],
   "source": [
    "def plot_2d_embedding(features, labels=None, method='pca'):\n",
    "    if method == 'pca':\n",
    "        reducer = PCA(n_components=2)\n",
    "    elif method == 'tsne':\n",
    "        reducer = TSNE(n_components=2, perplexity=5)\n",
    "    else:\n",
    "        raise ValueError(\"Choose 'pca' or 'tsne'\")\n",
    "    \n",
    "    scaled = StandardScaler().fit_transform(features)\n",
    "    embedding = reducer.fit_transform(scaled)\n",
    "    \n",
    "    plt.figure(figsize=(6, 5))\n",
    "    sns.scatterplot(x=embedding[:, 0], y=embedding[:, 1], hue=labels)\n",
    "    plt.title(f'{method.upper()} Projection of Pitch Class Distributions')\n",
    "    plt.show()\n"
   ]
  }
 ],
 "metadata": {
  "kernelspec": {
   "display_name": "Python 3",
   "language": "python",
   "name": "python3"
  },
  "language_info": {
   "codemirror_mode": {
    "name": "ipython",
    "version": 3
   },
   "file_extension": ".py",
   "mimetype": "text/x-python",
   "name": "python",
   "nbconvert_exporter": "python",
   "pygments_lexer": "ipython3",
   "version": "3.10.11"
  }
 },
 "nbformat": 4,
 "nbformat_minor": 5
}
