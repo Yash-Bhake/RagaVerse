{
 "cells": [
  {
   "cell_type": "markdown",
   "id": "59d19f7f",
   "metadata": {},
   "source": [
    "## Roots Classical Music Project"
   ]
  },
  {
   "cell_type": "markdown",
   "id": "a439ef8d",
   "metadata": {},
   "source": [
    "### RagaVerse\n"
   ]
  },
  {
   "cell_type": "code",
   "execution_count": 1,
   "id": "53d1f142",
   "metadata": {},
   "outputs": [],
   "source": [
    "import numpy"
   ]
  }
 ],
 "metadata": {
  "kernelspec": {
   "display_name": "Python 3",
   "language": "python",
   "name": "python3"
  },
  "language_info": {
   "codemirror_mode": {
    "name": "ipython",
    "version": 3
   },
   "file_extension": ".py",
   "mimetype": "text/x-python",
   "name": "python",
   "nbconvert_exporter": "python",
   "pygments_lexer": "ipython3",
   "version": "3.10.11"
  }
 },
 "nbformat": 4,
 "nbformat_minor": 5
}
