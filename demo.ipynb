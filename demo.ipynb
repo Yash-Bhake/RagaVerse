{
 "cells": [
  {
   "cell_type": "markdown",
   "id": "59d19f7f",
   "metadata": {},
   "source": [
    "## Roots Classical Music Project"
   ]
  },
  {
   "cell_type": "markdown",
   "id": "a439ef8d",
   "metadata": {},
   "source": [
    "### RagaVerse\n"
   ]
  },
  {
   "cell_type": "markdown",
   "id": "930d4953",
   "metadata": {},
   "source": [
    "Importing libraries, loading metadata spreadsheet "
   ]
  },
  {
   "cell_type": "code",
   "execution_count": 70,
   "id": "53d1f142",
   "metadata": {},
   "outputs": [
    {
     "name": "stdout",
     "output_type": "stream",
     "text": [
      "              Raga Tonic                                       YouTube Link  \\\n",
      "0            Yaman    B3  https://www.youtube.com/watch?v=kXJxMbmzqWc&li...   \n",
      "1           Hameer    B3  https://www.youtube.com/watch?v=fc_FVEkXOqA&li...   \n",
      "2           Hameer    D3  https://www.youtube.com/watch?v=FtObMbpIJLQ&li...   \n",
      "3           Hameer    D3  https://www.youtube.com/watch?v=BkQ6eB_c11w&li...   \n",
      "4             Nand    B3  https://www.youtube.com/watch?v=nUljNh4DEW4&li...   \n",
      "5             Nand    C4  https://www.youtube.com/watch?v=xgYQacGP-ZE&li...   \n",
      "6            kedar   C#4  https://www.youtube.com/watch?v=lvc0dAa3E_Q&li...   \n",
      "7     Shyam Kalyan    B3  https://www.youtube.com/watch?v=Dn95jiD-RZU&li...   \n",
      "8     Shyam Kalyan   NaN  https://www.youtube.com/watch?v=yeyWeWti0y0&li...   \n",
      "9  Alhaiya Bilawal    B3  https://www.youtube.com/watch?v=TYVC5GeQCvo&li...   \n",
      "\n",
      "              Name       Artist name (initials) Start Time (s) End Time (s)  \\\n",
      "0         yaman_MB                  Manali Bose       00:00:00     00:55:00   \n",
      "1        hameer_MB                  Manali Bose       00:00:00     00:40:00   \n",
      "2       hameer_MDR                 Mohamad Rafi       00:00:00     00:22:00   \n",
      "3        hameer_SG  Shreya Goshal and Hariharan       00:19:00     01:00:00   \n",
      "4          nand_MB                  Manali Bose       00:00:00     02:00:00   \n",
      "5              NaN                          NaN       02:36:00     03:15:00   \n",
      "6      jivalaga_AB                 Asha Bhosale       01:46:00     02:12:00   \n",
      "7   shyamkalyan_MB                  Manali Bose       00:00:00     01:40:00   \n",
      "8  shyamkalyan_KKG         Kaivalya kumar Gurav       05:49:00     06:10:00   \n",
      "9              NaN                  Manali Bose       00:00:00     00:40:00   \n",
      "\n",
      "  Processed till source separation (y/n)    Thaat Tonic   \n",
      "0                                    NaN   Kalyan    NaN  \n",
      "1                                    NaN   Kalyan    NaN  \n",
      "2                                    NaN   Kalyan    NaN  \n",
      "3                                    NaN   Kalyan    NaN  \n",
      "4                                    NaN   Kalyan    NaN  \n",
      "5                                    NaN   Kalyan    NaN  \n",
      "6                                    NaN   Kalyan    NaN  \n",
      "7                                    NaN   Kalyan    NaN  \n",
      "8                                    NaN   Kalyan    NaN  \n",
      "9                                    NaN  Bilawal    NaN  \n"
     ]
    }
   ],
   "source": [
    "import os\n",
    "import numpy as np\n",
    "import pandas as pd\n",
    "import librosa\n",
    "import parselmouth\n",
    "import matplotlib.pyplot as plt\n",
    "import seaborn as sns\n",
    "from sklearn.decomposition import PCA\n",
    "from sklearn.preprocessing import StandardScaler\n",
    "from sklearn.manifold import TSNE\n",
    "\n",
    "# Load CSV (column 'name' = filename, 'tonic' = musical note like 'A3')\n",
    "\n",
    "\n",
    "file_path = \"RagaVerseDatabase.xlsx\"  # Your Excel file (download the spreadsheet we are using)\n",
    "\n",
    "# Load all sheets\n",
    "xls = pd.ExcelFile(file_path)\n",
    "\n",
    "# Merge all sheets, adding a 'Thaat' column for each\n",
    "merged_df = pd.concat(\n",
    "    [xls.parse(sheet_name).assign(Thaat=sheet_name) for sheet_name in xls.sheet_names],\n",
    "    ignore_index=True\n",
    ")\n",
    "\n",
    "# Save merged data back to the same file as a new sheet called 'Merged'\n",
    "with pd.ExcelWriter(file_path, engine='openpyxl', mode='a', if_sheet_exists='replace') as writer:\n",
    "    merged_df.to_excel(writer, sheet_name='Merged', index=False)\n",
    "\n",
    "# Load the merged sheet as a normal DataFrame\n",
    "final_df = pd.read_excel(file_path, sheet_name='Merged')\n",
    "\n",
    "# Optional: View the result\n",
    "print(final_df.head(10))\n",
    "\n"
   ]
  },
  {
   "cell_type": "markdown",
   "id": "961ea861",
   "metadata": {},
   "source": [
    "set sampling rate and any other global variables\n"
   ]
  },
  {
   "cell_type": "code",
   "execution_count": 71,
   "id": "af55f45c",
   "metadata": {},
   "outputs": [],
   "source": [
    "sr = 48000"
   ]
  },
  {
   "cell_type": "markdown",
   "id": "306589eb",
   "metadata": {},
   "source": [
    "Loading audio file using librosa, and conversion to pitch contour at window length 10ms, using pyin algorithm"
   ]
  },
  {
   "cell_type": "code",
   "execution_count": 72,
   "id": "8d638921",
   "metadata": {},
   "outputs": [],
   "source": [
    "def audio_to_sine_wave(filepath, sr=16000, win_size=0.01):\n",
    "    snd = parselmouth.Sound(filepath).resample(new_frequency=sr)\n",
    "    pitch = snd.to_pitch(time_step=win_size)  # time_step = analysis hop size\n",
    "\n",
    "    # Extract pitch values\n",
    "    f0 = pitch.selected_array['frequency']  # In Hz\n",
    "    \n",
    "    # Generate sine wave based on f0\n",
    "    duration = snd.get_total_duration()\n",
    "    t = np.linspace(0, duration, len(f0))\n",
    "    sine = np.sin(2 * np.pi * np.nan_to_num(f0) * t)\n",
    "\n",
    "    return f0, sine, sr\n"
   ]
  },
  {
   "cell_type": "markdown",
   "id": "9951de2a",
   "metadata": {},
   "source": [
    "hertz to cents conversion using tonic of the audio file"
   ]
  },
  {
   "cell_type": "code",
   "execution_count": 73,
   "id": "51085c2d",
   "metadata": {},
   "outputs": [],
   "source": [
    "def hz_to_cents(f0, name):\n",
    "    tonic_str = final_df.loc[final_df['Name'] == name, 'Tonic'].values\n",
    "    if tonic_str.size > 0:\n",
    "        tonic = librosa.note_to_hz(tonic_str[0])\n",
    "    else:\n",
    "        tonic = librosa.note_to_hz('B3')  # Default tonic if not found\n",
    "    if tonic is None:\n",
    "        # Use median non-zero value as tonic estimate\n",
    "        tonic = np.median(f0[f0 > 0])\n",
    "    cents = 1200 * np.log2(f0 / tonic)\n",
    "    cents[f0 <= 0] = np.nan  # Ignore unvoiced\n",
    "    return cents, tonic\n"
   ]
  },
  {
   "cell_type": "markdown",
   "id": "8f383906",
   "metadata": {},
   "source": [
    "plotting function for the pitch contour (x: time, y: cents)"
   ]
  },
  {
   "cell_type": "code",
   "execution_count": 74,
   "id": "eee9dbaa",
   "metadata": {},
   "outputs": [],
   "source": [
    "def plot_pitch_contour(cents, sr, hop_length=sr/100):\n",
    "    time = np.arange(len(cents)) * hop_length / sr\n",
    "    plt.figure(figsize=(10, 3))\n",
    "    plt.plot(time, cents, label='Pitch contour (cents)')\n",
    "    plt.xlabel('Time (s)')\n",
    "    plt.ylabel('Pitch (cents)')\n",
    "    plt.title('Pitch Contour')\n",
    "    plt.grid(True)\n",
    "    plt.show()\n"
   ]
  },
  {
   "cell_type": "markdown",
   "id": "3321b21e",
   "metadata": {},
   "source": [
    "Pre-processing ends______________________________________________________________________________________________________________________________"
   ]
  },
  {
   "cell_type": "markdown",
   "id": "05556deb",
   "metadata": {},
   "source": [
    "Compute pitch class distributions"
   ]
  },
  {
   "cell_type": "code",
   "execution_count": 75,
   "id": "ad359038",
   "metadata": {},
   "outputs": [],
   "source": [
    "def compute_pitch_class_distribution(cents, bins=1200):\n",
    "    # Wrap around 1200 cents (1 octave)\n",
    "    pitch_classes = np.mod(cents, 1200)\n",
    "    pitch_classes = pitch_classes[~np.isnan(pitch_classes)]\n",
    "    hist, _ = np.histogram(pitch_classes, bins=bins, range=(0, 1200), density=True)\n",
    "    return hist\n",
    "\n",
    "# this funcction returns a 12 dim vector of pitch class distribution\n"
   ]
  },
  {
   "cell_type": "markdown",
   "id": "6927e8b4",
   "metadata": {},
   "source": [
    "Compute more features!!"
   ]
  },
  {
   "cell_type": "code",
   "execution_count": 76,
   "id": "392b40e7",
   "metadata": {},
   "outputs": [],
   "source": [
    "# Compute additional features\n",
    "# add your feature (should be a number or a set of numbers at the end of processing)\n"
   ]
  },
  {
   "cell_type": "markdown",
   "id": "6a80a9d9",
   "metadata": {},
   "source": [
    "dimensionality reduction to n components (n=2) using pca or t-SNE and plotting"
   ]
  },
  {
   "cell_type": "code",
   "execution_count": 77,
   "id": "56d93d0f",
   "metadata": {},
   "outputs": [],
   "source": [
    "def plot_2d_embedding(features, labels=None, method='pca'):\n",
    "    if method == 'pca':\n",
    "        reducer = PCA(n_components=2)\n",
    "    elif method == 'tsne':\n",
    "        reducer = TSNE(n_components=2, perplexity=5)\n",
    "    else:\n",
    "        raise ValueError(\"Choose 'pca' or 'tsne'\")\n",
    "    \n",
    "    scaled = StandardScaler().fit_transform(features)\n",
    "    embedding = reducer.fit_transform(scaled)\n",
    "    \n",
    "    plt.figure(figsize=(6, 5))\n",
    "    sns.scatterplot(x=embedding[:, 0], y=embedding[:, 1], hue=labels)\n",
    "    plt.title(f'{method.upper()} Projection of Pitch Class Distributions')\n",
    "    plt.show()\n"
   ]
  },
  {
   "cell_type": "markdown",
   "id": "7dbd6f8a",
   "metadata": {},
   "source": [
    "Add your feature"
   ]
  },
  {
   "cell_type": "code",
   "execution_count": 78,
   "id": "80526145",
   "metadata": {},
   "outputs": [
    {
     "name": "stderr",
     "output_type": "stream",
     "text": [
      "/var/folders/lc/598jm6692t38zzq_tcm91n240000gn/T/ipykernel_39634/874947043.py:10: RuntimeWarning: divide by zero encountered in log2\n",
      "  cents = 1200 * np.log2(f0 / tonic)\n",
      "/Users/yashbhake/Desktop/MIR/RagaVerse/ragaverse_venv/lib/python3.10/site-packages/sklearn/utils/extmath.py:350: RuntimeWarning: divide by zero encountered in matmul\n",
      "  Q, _ = normalizer(A @ Q)\n",
      "/Users/yashbhake/Desktop/MIR/RagaVerse/ragaverse_venv/lib/python3.10/site-packages/sklearn/utils/extmath.py:350: RuntimeWarning: overflow encountered in matmul\n",
      "  Q, _ = normalizer(A @ Q)\n",
      "/Users/yashbhake/Desktop/MIR/RagaVerse/ragaverse_venv/lib/python3.10/site-packages/sklearn/utils/extmath.py:350: RuntimeWarning: invalid value encountered in matmul\n",
      "  Q, _ = normalizer(A @ Q)\n",
      "/Users/yashbhake/Desktop/MIR/RagaVerse/ragaverse_venv/lib/python3.10/site-packages/sklearn/utils/extmath.py:351: RuntimeWarning: divide by zero encountered in matmul\n",
      "  Q, _ = normalizer(A.T @ Q)\n",
      "/Users/yashbhake/Desktop/MIR/RagaVerse/ragaverse_venv/lib/python3.10/site-packages/sklearn/utils/extmath.py:351: RuntimeWarning: overflow encountered in matmul\n",
      "  Q, _ = normalizer(A.T @ Q)\n",
      "/Users/yashbhake/Desktop/MIR/RagaVerse/ragaverse_venv/lib/python3.10/site-packages/sklearn/utils/extmath.py:351: RuntimeWarning: invalid value encountered in matmul\n",
      "  Q, _ = normalizer(A.T @ Q)\n",
      "/Users/yashbhake/Desktop/MIR/RagaVerse/ragaverse_venv/lib/python3.10/site-packages/sklearn/utils/extmath.py:355: RuntimeWarning: divide by zero encountered in matmul\n",
      "  Q, _ = qr_normalizer(A @ Q)\n",
      "/Users/yashbhake/Desktop/MIR/RagaVerse/ragaverse_venv/lib/python3.10/site-packages/sklearn/utils/extmath.py:355: RuntimeWarning: overflow encountered in matmul\n",
      "  Q, _ = qr_normalizer(A @ Q)\n",
      "/Users/yashbhake/Desktop/MIR/RagaVerse/ragaverse_venv/lib/python3.10/site-packages/sklearn/utils/extmath.py:355: RuntimeWarning: invalid value encountered in matmul\n",
      "  Q, _ = qr_normalizer(A @ Q)\n",
      "/Users/yashbhake/Desktop/MIR/RagaVerse/ragaverse_venv/lib/python3.10/site-packages/sklearn/utils/extmath.py:577: RuntimeWarning: divide by zero encountered in matmul\n",
      "  B = Q.T @ M\n",
      "/Users/yashbhake/Desktop/MIR/RagaVerse/ragaverse_venv/lib/python3.10/site-packages/sklearn/utils/extmath.py:577: RuntimeWarning: overflow encountered in matmul\n",
      "  B = Q.T @ M\n",
      "/Users/yashbhake/Desktop/MIR/RagaVerse/ragaverse_venv/lib/python3.10/site-packages/sklearn/utils/extmath.py:577: RuntimeWarning: invalid value encountered in matmul\n",
      "  B = Q.T @ M\n",
      "/Users/yashbhake/Desktop/MIR/RagaVerse/ragaverse_venv/lib/python3.10/site-packages/sklearn/utils/extmath.py:590: RuntimeWarning: divide by zero encountered in matmul\n",
      "  U = Q @ Uhat\n",
      "/Users/yashbhake/Desktop/MIR/RagaVerse/ragaverse_venv/lib/python3.10/site-packages/sklearn/utils/extmath.py:590: RuntimeWarning: overflow encountered in matmul\n",
      "  U = Q @ Uhat\n",
      "/Users/yashbhake/Desktop/MIR/RagaVerse/ragaverse_venv/lib/python3.10/site-packages/sklearn/utils/extmath.py:590: RuntimeWarning: invalid value encountered in matmul\n",
      "  U = Q @ Uhat\n"
     ]
    },
    {
     "data": {
      "image/png": "[encoded data removed]",
      "text/plain": [
       "<Figure size 600x500 with 1 Axes>"
      ]
     },
     "metadata": {},
     "output_type": "display_data"
    }
   ],
   "source": [
    "audio_dir = \"tools/separated/vocals\"\n",
    "features = []\n",
    "labels = []\n",
    "\n",
    "for filename in os.listdir(audio_dir):\n",
    "    if filename.endswith(\".wav\"):\n",
    "        path = os.path.join(audio_dir, filename)\n",
    "        f0, sine, sr = audio_to_sine_wave(path)\n",
    "        cents, tonic = hz_to_cents(f0, name=filename.split('.')[0])  # Use filename as name\n",
    "        hist = compute_pitch_class_distribution(cents)\n",
    "        features.append(hist)\n",
    "        #append your new feature in features, or try out the features ablatively.\n",
    "        labels.append(filename.split('_')[0])  # or use raga name\n",
    "\n",
    "plot_2d_embedding(features, labels, method='pca')\n"
   ]
  },
  {
   "cell_type": "code",
   "execution_count": null,
   "id": "c797e8f2",
   "metadata": {},
   "outputs": [],
   "source": []
  }
 ],
 "metadata": {
  "kernelspec": {
   "display_name": "ragaverse_venv",
   "language": "python",
   "name": "python3"
  },
  "language_info": {
   "codemirror_mode": {
    "name": "ipython",
    "version": 3
   },
   "file_extension": ".py",
   "mimetype": "text/x-python",
   "name": "python",
   "nbconvert_exporter": "python",
   "pygments_lexer": "ipython3",
   "version": "3.10.18"
  }
 },
 "nbformat": 4,
 "nbformat_minor": 5
}
